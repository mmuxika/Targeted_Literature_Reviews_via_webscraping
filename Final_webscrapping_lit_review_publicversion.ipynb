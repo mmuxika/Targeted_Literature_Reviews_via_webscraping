{
  "nbformat": 4,
  "nbformat_minor": 0,
  "metadata": {
    "colab": {
      "name": "Final_webscrapping_lit_review_publicversion.ipynb",
      "provenance": []
    },
    "kernelspec": {
      "name": "python3",
      "display_name": "Python 3"
    }
  },
  "cells": [
    {
      "cell_type": "markdown",
      "metadata": {
        "id": "4bMPh9WEiXt_"
      },
      "source": [
        "# 0. Install and import packages"
      ]
    },
    {
      "cell_type": "code",
      "metadata": {
        "id": "jO81T6bcI33e",
        "outputId": "8cfd02e1-5350-4765-c0e5-8d6435991f78",
        "colab": {
          "base_uri": "https://localhost:8080/",
          "height": 1000
        }
      },
      "source": [
        "!pip install fake-useragent\n",
        "!pip install beautifulsoup4\n",
        "!apt-get update\n",
        "!apt install chromium-chromedriver\n",
        "!cp /usr/lib/chromium-browser/chromedriver /usr/bin\n",
        "!pip install selenium\n",
        "!pip install bs4\n",
        "!pip install biopython"
      ],
      "execution_count": 1,
      "outputs": [
        {
          "output_type": "stream",
          "text": [
            "Collecting fake-useragent\n",
            "  Downloading https://files.pythonhosted.org/packages/d1/79/af647635d6968e2deb57a208d309f6069d31cb138066d7e821e575112a80/fake-useragent-0.1.11.tar.gz\n",
            "Building wheels for collected packages: fake-useragent\n",
            "  Building wheel for fake-useragent (setup.py) ... \u001b[?25l\u001b[?25hdone\n",
            "  Created wheel for fake-useragent: filename=fake_useragent-0.1.11-cp36-none-any.whl size=13485 sha256=293054e8effdfe2d2ee788fb9a0716d838e72fdb96c9dfa8a03dbebaff1c3239\n",
            "  Stored in directory: /root/.cache/pip/wheels/5e/63/09/d1dc15179f175357d3f5c00cbffbac37f9e8690d80545143ff\n",
            "Successfully built fake-useragent\n",
            "Installing collected packages: fake-useragent\n",
            "Successfully installed fake-useragent-0.1.11\n",
            "Requirement already satisfied: beautifulsoup4 in /usr/local/lib/python3.6/dist-packages (4.6.3)\n",
            "Get:1 http://ppa.launchpad.net/c2d4u.team/c2d4u4.0+/ubuntu bionic InRelease [15.9 kB]\n",
            "Hit:2 http://ppa.launchpad.net/graphics-drivers/ppa/ubuntu bionic InRelease\n",
            "Get:3 https://cloud.r-project.org/bin/linux/ubuntu bionic-cran40/ InRelease [3,626 B]\n",
            "Hit:4 http://archive.ubuntu.com/ubuntu bionic InRelease\n",
            "Get:5 http://archive.ubuntu.com/ubuntu bionic-updates InRelease [88.7 kB]\n",
            "Get:6 http://archive.ubuntu.com/ubuntu bionic-backports InRelease [74.6 kB]\n",
            "Get:7 http://security.ubuntu.com/ubuntu bionic-security InRelease [88.7 kB]\n",
            "Ign:8 https://developer.download.nvidia.com/compute/cuda/repos/ubuntu1804/x86_64  InRelease\n",
            "Get:9 http://ppa.launchpad.net/c2d4u.team/c2d4u4.0+/ubuntu bionic/main Sources [1,685 kB]\n",
            "Ign:10 https://developer.download.nvidia.com/compute/machine-learning/repos/ubuntu1804/x86_64  InRelease\n",
            "Get:11 https://developer.download.nvidia.com/compute/cuda/repos/ubuntu1804/x86_64  Release [697 B]\n",
            "Get:12 https://developer.download.nvidia.com/compute/machine-learning/repos/ubuntu1804/x86_64  Release [564 B]\n",
            "Get:13 http://ppa.launchpad.net/c2d4u.team/c2d4u4.0+/ubuntu bionic/main amd64 Packages [863 kB]\n",
            "Get:14 https://developer.download.nvidia.com/compute/cuda/repos/ubuntu1804/x86_64  Release.gpg [836 B]\n",
            "Get:15 https://developer.download.nvidia.com/compute/machine-learning/repos/ubuntu1804/x86_64  Release.gpg [833 B]\n",
            "Get:16 https://cloud.r-project.org/bin/linux/ubuntu bionic-cran40/ Packages [39.3 kB]\n",
            "Get:17 http://archive.ubuntu.com/ubuntu bionic-updates/universe amd64 Packages [2,115 kB]\n",
            "Get:18 http://archive.ubuntu.com/ubuntu bionic-updates/restricted amd64 Packages [238 kB]\n",
            "Get:19 http://archive.ubuntu.com/ubuntu bionic-updates/main amd64 Packages [2,162 kB]\n",
            "Get:20 http://archive.ubuntu.com/ubuntu bionic-updates/multiverse amd64 Packages [45.9 kB]\n",
            "Get:21 http://security.ubuntu.com/ubuntu bionic-security/main amd64 Packages [1,745 kB]\n",
            "Ign:22 https://developer.download.nvidia.com/compute/cuda/repos/ubuntu1804/x86_64  Packages\n",
            "Get:23 https://developer.download.nvidia.com/compute/machine-learning/repos/ubuntu1804/x86_64  Packages [57.0 kB]\n",
            "Get:22 https://developer.download.nvidia.com/compute/cuda/repos/ubuntu1804/x86_64  Packages [370 kB]\n",
            "Get:24 http://security.ubuntu.com/ubuntu bionic-security/multiverse amd64 Packages [15.4 kB]\n",
            "Get:25 http://security.ubuntu.com/ubuntu bionic-security/restricted amd64 Packages [211 kB]\n",
            "Get:26 http://security.ubuntu.com/ubuntu bionic-security/universe amd64 Packages [1,352 kB]\n",
            "Fetched 11.2 MB in 2s (5,862 kB/s)\n",
            "Reading package lists... Done\n",
            "Reading package lists... Done\n",
            "Building dependency tree       \n",
            "Reading state information... Done\n",
            "The following additional packages will be installed:\n",
            "  chromium-browser chromium-browser-l10n chromium-codecs-ffmpeg-extra\n",
            "Suggested packages:\n",
            "  webaccounts-chromium-extension unity-chromium-extension adobe-flashplugin\n",
            "The following NEW packages will be installed:\n",
            "  chromium-browser chromium-browser-l10n chromium-chromedriver\n",
            "  chromium-codecs-ffmpeg-extra\n",
            "0 upgraded, 4 newly installed, 0 to remove and 51 not upgraded.\n",
            "Need to get 80.1 MB of archives.\n",
            "After this operation, 271 MB of additional disk space will be used.\n",
            "Get:1 http://archive.ubuntu.com/ubuntu bionic-updates/universe amd64 chromium-codecs-ffmpeg-extra amd64 86.0.4240.75-0ubuntu0.18.04.1 [1,127 kB]\n",
            "Get:2 http://archive.ubuntu.com/ubuntu bionic-updates/universe amd64 chromium-browser amd64 86.0.4240.75-0ubuntu0.18.04.1 [70.9 MB]\n",
            "Get:3 http://archive.ubuntu.com/ubuntu bionic-updates/universe amd64 chromium-browser-l10n all 86.0.4240.75-0ubuntu0.18.04.1 [3,579 kB]\n",
            "Get:4 http://archive.ubuntu.com/ubuntu bionic-updates/universe amd64 chromium-chromedriver amd64 86.0.4240.75-0ubuntu0.18.04.1 [4,486 kB]\n",
            "Fetched 80.1 MB in 1s (74.6 MB/s)\n",
            "Selecting previously unselected package chromium-codecs-ffmpeg-extra.\n",
            "(Reading database ... 144611 files and directories currently installed.)\n",
            "Preparing to unpack .../chromium-codecs-ffmpeg-extra_86.0.4240.75-0ubuntu0.18.04.1_amd64.deb ...\n",
            "Unpacking chromium-codecs-ffmpeg-extra (86.0.4240.75-0ubuntu0.18.04.1) ...\n",
            "Selecting previously unselected package chromium-browser.\n",
            "Preparing to unpack .../chromium-browser_86.0.4240.75-0ubuntu0.18.04.1_amd64.deb ...\n",
            "Unpacking chromium-browser (86.0.4240.75-0ubuntu0.18.04.1) ...\n",
            "Selecting previously unselected package chromium-browser-l10n.\n",
            "Preparing to unpack .../chromium-browser-l10n_86.0.4240.75-0ubuntu0.18.04.1_all.deb ...\n",
            "Unpacking chromium-browser-l10n (86.0.4240.75-0ubuntu0.18.04.1) ...\n",
            "Selecting previously unselected package chromium-chromedriver.\n",
            "Preparing to unpack .../chromium-chromedriver_86.0.4240.75-0ubuntu0.18.04.1_amd64.deb ...\n",
            "Unpacking chromium-chromedriver (86.0.4240.75-0ubuntu0.18.04.1) ...\n",
            "Setting up chromium-codecs-ffmpeg-extra (86.0.4240.75-0ubuntu0.18.04.1) ...\n",
            "Setting up chromium-browser (86.0.4240.75-0ubuntu0.18.04.1) ...\n",
            "update-alternatives: using /usr/bin/chromium-browser to provide /usr/bin/x-www-browser (x-www-browser) in auto mode\n",
            "update-alternatives: using /usr/bin/chromium-browser to provide /usr/bin/gnome-www-browser (gnome-www-browser) in auto mode\n",
            "Setting up chromium-chromedriver (86.0.4240.75-0ubuntu0.18.04.1) ...\n",
            "Setting up chromium-browser-l10n (86.0.4240.75-0ubuntu0.18.04.1) ...\n",
            "Processing triggers for hicolor-icon-theme (0.17-2) ...\n",
            "Processing triggers for mime-support (3.60ubuntu1) ...\n",
            "Processing triggers for man-db (2.8.3-2ubuntu0.1) ...\n",
            "cp: '/usr/lib/chromium-browser/chromedriver' and '/usr/bin/chromedriver' are the same file\n",
            "Collecting selenium\n",
            "\u001b[?25l  Downloading https://files.pythonhosted.org/packages/80/d6/4294f0b4bce4de0abf13e17190289f9d0613b0a44e5dd6a7f5ca98459853/selenium-3.141.0-py2.py3-none-any.whl (904kB)\n",
            "\u001b[K     |████████████████████████████████| 911kB 7.2MB/s \n",
            "\u001b[?25hRequirement already satisfied: urllib3 in /usr/local/lib/python3.6/dist-packages (from selenium) (1.24.3)\n",
            "Installing collected packages: selenium\n",
            "Successfully installed selenium-3.141.0\n",
            "Requirement already satisfied: bs4 in /usr/local/lib/python3.6/dist-packages (0.0.1)\n",
            "Requirement already satisfied: beautifulsoup4 in /usr/local/lib/python3.6/dist-packages (from bs4) (4.6.3)\n",
            "Collecting biopython\n",
            "\u001b[?25l  Downloading https://files.pythonhosted.org/packages/76/02/8b606c4aa92ff61b5eda71d23b499ab1de57d5e818be33f77b01a6f435a8/biopython-1.78-cp36-cp36m-manylinux1_x86_64.whl (2.3MB)\n",
            "\u001b[K     |████████████████████████████████| 2.3MB 5.2MB/s \n",
            "\u001b[?25hRequirement already satisfied: numpy in /usr/local/lib/python3.6/dist-packages (from biopython) (1.18.5)\n",
            "Installing collected packages: biopython\n",
            "Successfully installed biopython-1.78\n"
          ],
          "name": "stdout"
        }
      ]
    },
    {
      "cell_type": "code",
      "metadata": {
        "id": "ZoWIqzTQJUP_"
      },
      "source": [
        "import openpyxl\n",
        "import requests\n",
        "from fake_useragent import UserAgent\n",
        "from bs4 import BeautifulSoup\n",
        "import pandas as pd\n",
        "from selenium import webdriver\n",
        "from selenium import webdriver\n",
        "import re\n",
        "import requests\n",
        "from lxml import html\n",
        "from lxml import etree\n",
        "import urllib\n",
        "import re   \n",
        "import unicodedata\n",
        "import time\n",
        "from Bio import Entrez\n",
        "import networkx as nx\n",
        "import pandas as pd"
      ],
      "execution_count": 2,
      "outputs": []
    },
    {
      "cell_type": "markdown",
      "metadata": {
        "id": "bQjRqUeEihgf"
      },
      "source": [
        "What do you want to search?"
      ]
    },
    {
      "cell_type": "code",
      "metadata": {
        "id": "faPPfJzKLBhd"
      },
      "source": [
        "myquery = '\"radiomics\"AND\"CT\"AND\"Ovarian Cancer\"'"
      ],
      "execution_count": 3,
      "outputs": []
    },
    {
      "cell_type": "markdown",
      "metadata": {
        "id": "G-LJv8ndgYhg"
      },
      "source": [
        "# 1. Get excel with abstracts"
      ]
    },
    {
      "cell_type": "markdown",
      "metadata": {
        "id": "3gGkSqApf_Xh"
      },
      "source": [
        "Add your personal key and email here to be able to access the PubMed database\n",
        "\n",
        "Instructions to get your personal key can be found here: https://ncbiinsights.ncbi.nlm.nih.gov/2017/11/02/new-api-keys-for-the-e-utilities/\n"
      ]
    },
    {
      "cell_type": "code",
      "metadata": {
        "id": "ZMa-FxaqPgeJ"
      },
      "source": [
        "Entrez.email = 'name@domain'\n"
      ],
      "execution_count": 4,
      "outputs": []
    },
    {
      "cell_type": "markdown",
      "metadata": {
        "id": "G0i36lTpPeN2"
      },
      "source": [
        "The api key is optional, but you can get more articles without error"
      ]
    },
    {
      "cell_type": "code",
      "metadata": {
        "id": "DBstjRhyPifL"
      },
      "source": [
        "Entrez.api_key = \"*********\""
      ],
      "execution_count": null,
      "outputs": []
    },
    {
      "cell_type": "markdown",
      "metadata": {
        "id": "htf6QIgXjYNl"
      },
      "source": [
        "Some helper functions..."
      ]
    },
    {
      "cell_type": "code",
      "metadata": {
        "id": "s1KABabfPltO"
      },
      "source": [
        "def search(query,mymax):\n",
        "    handle = Entrez.esearch(db='pubmed', \n",
        "                            sort='relevance', \n",
        "                            retmax=str(mymax),\n",
        "                            retmode='xml', \n",
        "                            term=query)\n",
        "    results = Entrez.read(handle)\n",
        "    return results\n",
        "\n",
        "def fetch_details(id_list):\n",
        "    ids = ','.join(id_list)\n",
        "    handle = Entrez.efetch(db='pubmed',\n",
        "                           retmode='xml',\n",
        "                           id=ids)\n",
        "    results = Entrez.read(handle)\n",
        "    return results\n",
        "\n",
        "def fetch_details_2(id):\n",
        "    handle = Entrez.efetch(db='pubmed',\n",
        "                           retmode='xml',\n",
        "                           id=id)\n",
        "    results = Entrez.read(handle)\n",
        "    return results"
      ],
      "execution_count": 7,
      "outputs": []
    },
    {
      "cell_type": "markdown",
      "metadata": {
        "id": "OHa4bZOPjapN"
      },
      "source": [
        "Get the results"
      ]
    },
    {
      "cell_type": "code",
      "metadata": {
        "id": "oxNDx86TPzUY"
      },
      "source": [
        "titles=[]\n",
        "aims=[]\n",
        "mms=[]\n",
        "ress=[]\n",
        "concs=[] \n",
        "refs=[]\n",
        "abs=[]\n",
        "pmids = []\n",
        "cited_by = []\n",
        "\n",
        "mymax=100\n",
        "results = search(myquery,mymax)\n",
        "id_list = results['IdList'] # list of UIDs\n",
        "chunk_size = 50 # whatever you like   \n",
        "for chunk_i in range(0, len(id_list), chunk_size):\n",
        "    chunk = id_list[chunk_i:chunk_i + chunk_size]\n",
        " \n",
        "    papers = fetch_details(chunk)\n",
        "    for i, paper in enumerate(papers['PubmedArticle']):\n",
        "      try:\n",
        "          data = paper.get('PubmedData')\n",
        "          data2 = paper.get('MedlineCitation')\n",
        "          article = data2.get('Article')\n",
        "          title = article.get('ArticleTitle')\n",
        "          abstr = article.get('Abstract')\n",
        "          abstr = abstr.get('AbstractText')\n",
        "          ref = data.get('ReferenceList')\n",
        "          refs.append(ref)\n",
        "          pmids.append(data2.get('PMID'))\n",
        "          cited_by.append('')\n",
        "          try:\n",
        "            aim = abstr[0]\n",
        "            MM = abstr[1]\n",
        "            res = abstr[2]\n",
        "            conc = abstr[3]\n",
        "            titles.append(title)\n",
        "            aims.append(aim)\n",
        "            mms.append(MM)\n",
        "            ress.append(res)\n",
        "            concs.append(conc)\n",
        "            abs.append('')\n",
        "          except:\n",
        "            abs.append(abstr[0])\n",
        "            titles.append(title)\n",
        "            aims.append('')\n",
        "            mms.append('')\n",
        "            ress.append('')\n",
        "            concs.append('')\n",
        "      except:\n",
        "          pass\n"
      ],
      "execution_count": 8,
      "outputs": []
    },
    {
      "cell_type": "markdown",
      "metadata": {
        "id": "190BWIK5jdcp"
      },
      "source": [
        "add them to a dataframe and download!"
      ]
    },
    {
      "cell_type": "code",
      "metadata": {
        "id": "KcSzQdh-ffP4"
      },
      "source": [
        "data = {'title': titles, 'id':pmids,'abs':abs,'aims':aims,'MM':mms,'res':ress,'concl':concs} \n",
        "df2 = pd.DataFrame(data) "
      ],
      "execution_count": 9,
      "outputs": []
    },
    {
      "cell_type": "code",
      "metadata": {
        "id": "JzhC_8WwSwQR",
        "outputId": "706d22ff-0245-466b-d40b-b393ef50839c",
        "colab": {
          "base_uri": "https://localhost:8080/",
          "height": 467
        }
      },
      "source": [
        "df2"
      ],
      "execution_count": 10,
      "outputs": [
        {
          "output_type": "execute_result",
          "data": {
            "text/html": [
              "<div>\n",
              "<style scoped>\n",
              "    .dataframe tbody tr th:only-of-type {\n",
              "        vertical-align: middle;\n",
              "    }\n",
              "\n",
              "    .dataframe tbody tr th {\n",
              "        vertical-align: top;\n",
              "    }\n",
              "\n",
              "    .dataframe thead th {\n",
              "        text-align: right;\n",
              "    }\n",
              "</style>\n",
              "<table border=\"1\" class=\"dataframe\">\n",
              "  <thead>\n",
              "    <tr style=\"text-align: right;\">\n",
              "      <th></th>\n",
              "      <th>title</th>\n",
              "      <th>id</th>\n",
              "      <th>abs</th>\n",
              "      <th>aims</th>\n",
              "      <th>MM</th>\n",
              "      <th>res</th>\n",
              "      <th>concl</th>\n",
              "    </tr>\n",
              "  </thead>\n",
              "  <tbody>\n",
              "    <tr>\n",
              "      <th>0</th>\n",
              "      <td>Radiomics: a Novel CT-Based Method of Predicti...</td>\n",
              "      <td>30441264</td>\n",
              "      <td>In order to predict the 3-year recurrence of a...</td>\n",
              "      <td></td>\n",
              "      <td></td>\n",
              "      <td></td>\n",
              "      <td></td>\n",
              "    </tr>\n",
              "    <tr>\n",
              "      <th>1</th>\n",
              "      <td>Radiomics of high-grade serous ovarian cancer:...</td>\n",
              "      <td>29737390</td>\n",
              "      <td></td>\n",
              "      <td>To determine if radiomic features, alone or co...</td>\n",
              "      <td>This retrospective study enrolled 101 patients...</td>\n",
              "      <td>Patients with values of F2-Shape/Compactness1 ...</td>\n",
              "      <td>This study demonstrated significant associatio...</td>\n",
              "    </tr>\n",
              "    <tr>\n",
              "      <th>2</th>\n",
              "      <td>Integration of proteomics with CT-based qualit...</td>\n",
              "      <td>32253542</td>\n",
              "      <td></td>\n",
              "      <td>To investigate the association between CT imag...</td>\n",
              "      <td>This retrospective, hypothesis-generating stud...</td>\n",
              "      <td>Four proteins were associated with CT-based im...</td>\n",
              "      <td>This study provides the first insights into th...</td>\n",
              "    </tr>\n",
              "    <tr>\n",
              "      <th>3</th>\n",
              "      <td>Association between CT-texture-derived tumor h...</td>\n",
              "      <td>30474722</td>\n",
              "      <td></td>\n",
              "      <td>To assess the associations between inter-site ...</td>\n",
              "      <td>Retrospective study of 88 HGSOC patients under...</td>\n",
              "      <td>Higher inter-site cluster variance (SCV) was a...</td>\n",
              "      <td>The assessment of tumoral heterogeneity in the...</td>\n",
              "    </tr>\n",
              "    <tr>\n",
              "      <th>4</th>\n",
              "      <td>Applying Quantitative CT Image Feature Analysi...</td>\n",
              "      <td>28554551</td>\n",
              "      <td></td>\n",
              "      <td>The study aimed to investigate the role of app...</td>\n",
              "      <td>A dataset involving 91 patients was retrospect...</td>\n",
              "      <td>The highest areas under the receiver operating...</td>\n",
              "      <td>This study demonstrated the feasibility of pre...</td>\n",
              "    </tr>\n",
              "    <tr>\n",
              "      <th>5</th>\n",
              "      <td>A Computed Tomography-Based Radiomic Prognosti...</td>\n",
              "      <td>31024855</td>\n",
              "      <td>&lt;b&gt;Objectives:&lt;/b&gt; We used radiomic analysis t...</td>\n",
              "      <td></td>\n",
              "      <td></td>\n",
              "      <td></td>\n",
              "      <td></td>\n",
              "    </tr>\n",
              "    <tr>\n",
              "      <th>6</th>\n",
              "      <td>Tissue-specific and interpretable sub-segmenta...</td>\n",
              "      <td>32421652</td>\n",
              "      <td></td>\n",
              "      <td>Cancer typically exhibits genotypic and phenot...</td>\n",
              "      <td>With the goal of achieving the automated sub-s...</td>\n",
              "      <td>On all tested sub-segmentation tasks, our two-...</td>\n",
              "      <td>The proposed intelligent framework could be re...</td>\n",
              "    </tr>\n",
              "    <tr>\n",
              "      <th>7</th>\n",
              "      <td>A novel representation of inter-site tumour he...</td>\n",
              "      <td>28289945</td>\n",
              "      <td></td>\n",
              "      <td>To evaluate the associations between clinical ...</td>\n",
              "      <td>IRB-approved retrospective study of 38 HGSOC p...</td>\n",
              "      <td>Of the 12 inter-site texture heterogeneity met...</td>\n",
              "      <td>Quantitative metrics non-invasively capturing ...</td>\n",
              "    </tr>\n",
              "  </tbody>\n",
              "</table>\n",
              "</div>"
            ],
            "text/plain": [
              "                                               title  ...                                              concl\n",
              "0  Radiomics: a Novel CT-Based Method of Predicti...  ...                                                   \n",
              "1  Radiomics of high-grade serous ovarian cancer:...  ...  This study demonstrated significant associatio...\n",
              "2  Integration of proteomics with CT-based qualit...  ...  This study provides the first insights into th...\n",
              "3  Association between CT-texture-derived tumor h...  ...  The assessment of tumoral heterogeneity in the...\n",
              "4  Applying Quantitative CT Image Feature Analysi...  ...  This study demonstrated the feasibility of pre...\n",
              "5  A Computed Tomography-Based Radiomic Prognosti...  ...                                                   \n",
              "6  Tissue-specific and interpretable sub-segmenta...  ...  The proposed intelligent framework could be re...\n",
              "7  A novel representation of inter-site tumour he...  ...  Quantitative metrics non-invasively capturing ...\n",
              "\n",
              "[8 rows x 7 columns]"
            ]
          },
          "metadata": {
            "tags": []
          },
          "execution_count": 10
        }
      ]
    },
    {
      "cell_type": "code",
      "metadata": {
        "id": "9JAImpmef-nD"
      },
      "source": [
        "df2.to_excel('output.xlsx') "
      ],
      "execution_count": null,
      "outputs": []
    },
    {
      "cell_type": "markdown",
      "metadata": {
        "id": "fyeilwqOgfWj"
      },
      "source": [
        "# 2. Get the graph for the citations"
      ]
    },
    {
      "cell_type": "markdown",
      "metadata": {
        "id": "6QEtv_a4jkhh"
      },
      "source": [
        "Get the nodes and edges"
      ]
    },
    {
      "cell_type": "code",
      "metadata": {
        "id": "NsMgPm-ybTYL"
      },
      "source": [
        "nodes = []\n",
        "edges = []\n",
        "new_ids=[]\n",
        "for i in range(len(refs)):\n",
        "  temp = refs[i]\n",
        "  name=str(pmids[i])\n",
        "  if temp:\n",
        "    if name not in nodes:\n",
        "      nodes.append(name)\n",
        "    temp2 = temp[0]\n",
        "    A = temp2.get('Reference')\n",
        "    for j in range(len(A)):\n",
        "      temp3 = A[j].get('ArticleIdList')\n",
        "      try:\n",
        "        name2 = str(temp3[0])\n",
        "        if name2 not in nodes:\n",
        "          nodes.append(name2)\n",
        "          new_ids.append(name2)\n",
        "\n",
        "        edges.append((name,name2))\n",
        "      except:\n",
        "        pass"
      ],
      "execution_count": 11,
      "outputs": []
    },
    {
      "cell_type": "markdown",
      "metadata": {
        "id": "Y5R2qu-jjm-d"
      },
      "source": [
        "Build the graph"
      ]
    },
    {
      "cell_type": "code",
      "metadata": {
        "id": "l3iGGZrDaPrq"
      },
      "source": [
        "g = nx.Graph()\n",
        "g.add_nodes_from(nodes)\n",
        "for i in range(len(edges)):\n",
        "  B = edges[i]\n",
        "  g.add_edge(B[0], B[1])\n"
      ],
      "execution_count": 12,
      "outputs": []
    },
    {
      "cell_type": "markdown",
      "metadata": {
        "id": "QW-7Gv2mgvGU"
      },
      "source": [
        "color code the original papers in blue, the rest in red"
      ]
    },
    {
      "cell_type": "code",
      "metadata": {
        "id": "ROrYZyFOgxqc"
      },
      "source": [
        "color_map = []\n",
        "for node in nodes:\n",
        "    if node in pmids:\n",
        "        color_map.append('blue')\n",
        "    else: \n",
        "        color_map.append('red')      "
      ],
      "execution_count": 13,
      "outputs": []
    },
    {
      "cell_type": "markdown",
      "metadata": {
        "id": "TZ1XCqXmgzBi"
      },
      "source": [
        "get the graph"
      ]
    },
    {
      "cell_type": "code",
      "metadata": {
        "id": "b6ckdJ7ma4iU",
        "outputId": "ed348169-5fa9-4256-a3b1-a85465197d45",
        "colab": {
          "base_uri": "https://localhost:8080/",
          "height": 319
        }
      },
      "source": [
        "nx.draw(g,node_size=100, node_color=color_map,alpha=0.5)"
      ],
      "execution_count": 14,
      "outputs": [
        {
          "output_type": "display_data",
          "data": {
            "image/png": "[encoded data removed]",
            "text/plain": [
              "<Figure size 432x288 with 1 Axes>"
            ]
          },
          "metadata": {
            "tags": []
          }
        }
      ]
    },
    {
      "cell_type": "markdown",
      "metadata": {
        "id": "BqjHryqzhCt1"
      },
      "source": [
        "Voilá!! "
      ]
    },
    {
      "cell_type": "markdown",
      "metadata": {
        "id": "mPODDlBLNinD"
      },
      "source": [
        "now we can also get the abstracts for the references"
      ]
    },
    {
      "cell_type": "code",
      "metadata": {
        "id": "3FXqB-HQNWwD"
      },
      "source": [
        "mymax=100\n",
        "id_list = new_ids # list of UIDs\n",
        "chunk_size = 50 # whatever you like   \n",
        "for chunk_i in range(0, len(id_list), chunk_size):\n",
        "    chunk = id_list[chunk_i:chunk_i + chunk_size]\n",
        " \n",
        "    papers = fetch_details(chunk)\n",
        "    for i, paper in enumerate(papers['PubmedArticle']):\n",
        "      try:\n",
        "          data = paper.get('PubmedData')\n",
        "          data2 = paper.get('MedlineCitation')\n",
        "          article = data2.get('Article')\n",
        "          title = article.get('ArticleTitle')\n",
        "          abstr = article.get('Abstract')\n",
        "          abstr = abstr.get('AbstractText')\n",
        "          ref = data.get('ReferenceList')\n",
        "          refs.append(ref)\n",
        "          pmids.append(data2.get('PMID'))\n",
        "          cited_by.append(str(g.degree(str(data2.get('PMID')))))\n",
        "          try:\n",
        "            aim = abstr[0]\n",
        "            MM = abstr[1]\n",
        "            res = abstr[2]\n",
        "            conc = abstr[3]\n",
        "            titles.append(title)\n",
        "            aims.append(aim)\n",
        "            mms.append(MM)\n",
        "            ress.append(res)\n",
        "            concs.append(conc)\n",
        "            abs.append('')\n",
        "          except:\n",
        "            abs.append(abstr[0])\n",
        "            titles.append(title)\n",
        "            aims.append('')\n",
        "            mms.append('')\n",
        "            ress.append('')\n",
        "            concs.append('')\n",
        "      except:\n",
        "          pass\n"
      ],
      "execution_count": 15,
      "outputs": []
    },
    {
      "cell_type": "markdown",
      "metadata": {
        "id": "0YMm5NuSNmeZ"
      },
      "source": [
        "add them to a dataframe"
      ]
    },
    {
      "cell_type": "code",
      "metadata": {
        "id": "yRJeXfoYNcyU",
        "outputId": "6e82242b-8a19-40b1-e900-aaf11e3a4b16",
        "colab": {
          "base_uri": "https://localhost:8080/",
          "height": 657
        }
      },
      "source": [
        "data = {'title': titles, 'id':pmids,'abs':abs,'aims':aims,'MM':mms,'res':ress,'concl':concs,'degree':cited_by} \n",
        "df2 = pd.DataFrame(data) \n",
        "df2"
      ],
      "execution_count": 16,
      "outputs": [
        {
          "output_type": "execute_result",
          "data": {
            "text/html": [
              "<div>\n",
              "<style scoped>\n",
              "    .dataframe tbody tr th:only-of-type {\n",
              "        vertical-align: middle;\n",
              "    }\n",
              "\n",
              "    .dataframe tbody tr th {\n",
              "        vertical-align: top;\n",
              "    }\n",
              "\n",
              "    .dataframe thead th {\n",
              "        text-align: right;\n",
              "    }\n",
              "</style>\n",
              "<table border=\"1\" class=\"dataframe\">\n",
              "  <thead>\n",
              "    <tr style=\"text-align: right;\">\n",
              "      <th></th>\n",
              "      <th>title</th>\n",
              "      <th>id</th>\n",
              "      <th>abs</th>\n",
              "      <th>aims</th>\n",
              "      <th>MM</th>\n",
              "      <th>res</th>\n",
              "      <th>concl</th>\n",
              "      <th>degree</th>\n",
              "    </tr>\n",
              "  </thead>\n",
              "  <tbody>\n",
              "    <tr>\n",
              "      <th>0</th>\n",
              "      <td>Radiomics: a Novel CT-Based Method of Predicti...</td>\n",
              "      <td>30441264</td>\n",
              "      <td>In order to predict the 3-year recurrence of a...</td>\n",
              "      <td></td>\n",
              "      <td></td>\n",
              "      <td></td>\n",
              "      <td></td>\n",
              "      <td></td>\n",
              "    </tr>\n",
              "    <tr>\n",
              "      <th>1</th>\n",
              "      <td>Radiomics of high-grade serous ovarian cancer:...</td>\n",
              "      <td>29737390</td>\n",
              "      <td></td>\n",
              "      <td>To determine if radiomic features, alone or co...</td>\n",
              "      <td>This retrospective study enrolled 101 patients...</td>\n",
              "      <td>Patients with values of F2-Shape/Compactness1 ...</td>\n",
              "      <td>This study demonstrated significant associatio...</td>\n",
              "      <td></td>\n",
              "    </tr>\n",
              "    <tr>\n",
              "      <th>2</th>\n",
              "      <td>Integration of proteomics with CT-based qualit...</td>\n",
              "      <td>32253542</td>\n",
              "      <td></td>\n",
              "      <td>To investigate the association between CT imag...</td>\n",
              "      <td>This retrospective, hypothesis-generating stud...</td>\n",
              "      <td>Four proteins were associated with CT-based im...</td>\n",
              "      <td>This study provides the first insights into th...</td>\n",
              "      <td></td>\n",
              "    </tr>\n",
              "    <tr>\n",
              "      <th>3</th>\n",
              "      <td>Association between CT-texture-derived tumor h...</td>\n",
              "      <td>30474722</td>\n",
              "      <td></td>\n",
              "      <td>To assess the associations between inter-site ...</td>\n",
              "      <td>Retrospective study of 88 HGSOC patients under...</td>\n",
              "      <td>Higher inter-site cluster variance (SCV) was a...</td>\n",
              "      <td>The assessment of tumoral heterogeneity in the...</td>\n",
              "      <td></td>\n",
              "    </tr>\n",
              "    <tr>\n",
              "      <th>4</th>\n",
              "      <td>Applying Quantitative CT Image Feature Analysi...</td>\n",
              "      <td>28554551</td>\n",
              "      <td></td>\n",
              "      <td>The study aimed to investigate the role of app...</td>\n",
              "      <td>A dataset involving 91 patients was retrospect...</td>\n",
              "      <td>The highest areas under the receiver operating...</td>\n",
              "      <td>This study demonstrated the feasibility of pre...</td>\n",
              "      <td></td>\n",
              "    </tr>\n",
              "    <tr>\n",
              "      <th>...</th>\n",
              "      <td>...</td>\n",
              "      <td>...</td>\n",
              "      <td>...</td>\n",
              "      <td>...</td>\n",
              "      <td>...</td>\n",
              "      <td>...</td>\n",
              "      <td>...</td>\n",
              "      <td>...</td>\n",
              "    </tr>\n",
              "    <tr>\n",
              "      <th>166</th>\n",
              "      <td>Analysis of tumor specimens at the time of acq...</td>\n",
              "      <td>23470965</td>\n",
              "      <td></td>\n",
              "      <td>All patients with EGF receptor (EGFR)-mutant l...</td>\n",
              "      <td>Patients with lung adenocarcinomas and acquire...</td>\n",
              "      <td>Adequate tumor samples for molecular analysis ...</td>\n",
              "      <td>This is the largest series reporting mechanism...</td>\n",
              "      <td>1</td>\n",
              "    </tr>\n",
              "    <tr>\n",
              "      <th>167</th>\n",
              "      <td>Histologic subtypes of ovarian carcinoma: an o...</td>\n",
              "      <td>18317227</td>\n",
              "      <td>Reproducible subclassification of ovarian carc...</td>\n",
              "      <td></td>\n",
              "      <td></td>\n",
              "      <td></td>\n",
              "      <td></td>\n",
              "      <td>1</td>\n",
              "    </tr>\n",
              "    <tr>\n",
              "      <th>168</th>\n",
              "      <td>Radiomics: the process and the challenges.</td>\n",
              "      <td>22898692</td>\n",
              "      <td>\"Radiomics\" refers to the extraction and analy...</td>\n",
              "      <td></td>\n",
              "      <td></td>\n",
              "      <td></td>\n",
              "      <td></td>\n",
              "      <td>1</td>\n",
              "    </tr>\n",
              "    <tr>\n",
              "      <th>169</th>\n",
              "      <td>Novel molecular subtypes of serous and endomet...</td>\n",
              "      <td>18698038</td>\n",
              "      <td></td>\n",
              "      <td>The study aim to identify novel molecular subt...</td>\n",
              "      <td>Microarray gene expression profiling was done ...</td>\n",
              "      <td>Optimal clustering of array data identified si...</td>\n",
              "      <td>Gene expression profiling identified molecular...</td>\n",
              "      <td>1</td>\n",
              "    </tr>\n",
              "    <tr>\n",
              "      <th>170</th>\n",
              "      <td>Genetic intra-tumour heterogeneity in epitheli...</td>\n",
              "      <td>17154249</td>\n",
              "      <td>Genetic analysis of solid tumours using DNA or...</td>\n",
              "      <td></td>\n",
              "      <td></td>\n",
              "      <td></td>\n",
              "      <td></td>\n",
              "      <td>1</td>\n",
              "    </tr>\n",
              "  </tbody>\n",
              "</table>\n",
              "<p>171 rows × 8 columns</p>\n",
              "</div>"
            ],
            "text/plain": [
              "                                                 title  ... degree\n",
              "0    Radiomics: a Novel CT-Based Method of Predicti...  ...       \n",
              "1    Radiomics of high-grade serous ovarian cancer:...  ...       \n",
              "2    Integration of proteomics with CT-based qualit...  ...       \n",
              "3    Association between CT-texture-derived tumor h...  ...       \n",
              "4    Applying Quantitative CT Image Feature Analysi...  ...       \n",
              "..                                                 ...  ...    ...\n",
              "166  Analysis of tumor specimens at the time of acq...  ...      1\n",
              "167  Histologic subtypes of ovarian carcinoma: an o...  ...      1\n",
              "168         Radiomics: the process and the challenges.  ...      1\n",
              "169  Novel molecular subtypes of serous and endomet...  ...      1\n",
              "170  Genetic intra-tumour heterogeneity in epitheli...  ...      1\n",
              "\n",
              "[171 rows x 8 columns]"
            ]
          },
          "metadata": {
            "tags": []
          },
          "execution_count": 16
        }
      ]
    },
    {
      "cell_type": "markdown",
      "metadata": {
        "id": "XvJ72Za8No7Y"
      },
      "source": [
        "and we can save/download the document "
      ]
    },
    {
      "cell_type": "code",
      "metadata": {
        "id": "xuoOJmZpNhle"
      },
      "source": [
        "df2.to_excel('output.xlsx') "
      ],
      "execution_count": null,
      "outputs": []
    },
    {
      "cell_type": "markdown",
      "metadata": {
        "id": "_NSKAwV5g0cL"
      },
      "source": [
        "Some of the posts I've used as references:\n",
        "\n",
        "https://medium.com/@kliang933/scraping-big-data-from-public-research-repositories-e-g-pubmed-arxiv-2-488666f6f29b\n",
        "\n",
        "https://github.com/CrossRef/rest-api-doc#queries\n"
      ]
    }
  ]
}
